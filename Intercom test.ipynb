{
 "cells": [
  {
   "cell_type": "code",
   "execution_count": null,
   "metadata": {
    "collapsed": true
   },
   "outputs": [],
   "source": [
    "import pandas as pd\n",
    "import numpy as np\n",
    "import matplotlib.pyplot as plt"
   ]
  },
  {
   "cell_type": "code",
   "execution_count": null,
   "metadata": {},
   "outputs": [],
   "source": [
    "# read in data\n",
    "films = pd.read_csv('movies_data.csv')"
   ]
  },
  {
   "cell_type": "code",
   "execution_count": null,
   "metadata": {},
   "outputs": [],
   "source": [
    "films.head()\n",
    "films.columns\n",
    "films.info()\n",
    "films.describe()"
   ]
  },
  {
   "cell_type": "heading",
   "metadata": {},
   "level": 1,
   "source": [
    "1. What are the 3 most common ratings (1­10) for movies in the list? Round each rating up or down to the nearest whole number."
   ]
  },
  {
   "cell_type": "code",
   "execution_count": null,
   "metadata": {},
   "outputs": [],
   "source": [
    "films['rating_whole'] = films['rating'].map(lambda x: np.round(x, 0))\n",
    "films['rating_whole'].value_counts()"
   ]
  },
  {
   "cell_type": "heading",
   "metadata": {},
   "level": 1,
   "source": [
    "2. Are there more R­Rated movies or PG­13 movies in this list?"
   ]
  },
  {
   "cell_type": "code",
   "execution_count": null,
   "metadata": {},
   "outputs": [],
   "source": [
    "films['mpaa'].value_counts()"
   ]
  },
  {
   "cell_type": "heading",
   "metadata": {},
   "level": 1,
   "source": [
    "3. Are there more Drama, Comedy, or Romance films in this list?"
   ]
  },
  {
   "cell_type": "code",
   "execution_count": null,
   "metadata": {},
   "outputs": [],
   "source": [
    "for i in ['Comedy', 'Drama', 'Romance']:\n",
    "    print(films[i].value_counts())"
   ]
  },
  {
   "cell_type": "heading",
   "metadata": {},
   "level": 1,
   "source": [
    ""
   ]
  },
  {
   "cell_type": "code",
   "execution_count": null,
   "metadata": {},
   "outputs": [],
   "source": [
    "action_filter = films['Action'] == 1\n",
    "comedy_filter = films['Comedy'] == 1\n",
    "\n",
    "action_comedy_films = films[action_filter & comedy_filter].copy()\n",
    "genres = ['Action', 'Animation', 'Comedy', 'Drama', 'Documentary', 'Romance', 'Short']\n",
    "sum_filter = action_comedy_films[genres].sum(axis=1) == 2\n",
    "len(action_comedy_films[sum_filter])"
   ]
  },
  {
   "cell_type": "heading",
   "metadata": {},
   "level": 1,
   "source": [
    "5. What is the average, median, 25th percentile and 75th percentile of ratings?"
   ]
  },
  {
   "cell_type": "code",
   "execution_count": null,
   "metadata": {},
   "outputs": [],
   "source": [
    "films['rating'].describe()"
   ]
  },
  {
   "cell_type": "heading",
   "metadata": {},
   "level": 1,
   "source": [
    ""
   ]
  },
  {
   "cell_type": "code",
   "execution_count": null,
   "metadata": {},
   "outputs": [],
   "source": [
    "np.corrcoef(films['rating'], films['votes'])\n",
    "np.corrcoef(films['length'], films['rating'])\n",
    "np.corrcoef(films['year'], films['rating'])"
   ]
  },
  {
   "cell_type": "heading",
   "metadata": {},
   "level": 1,
   "source": [
    ""
   ]
  },
  {
   "cell_type": "code",
   "execution_count": null,
   "metadata": {},
   "outputs": [],
   "source": [
    "plt.scatter(films['length'], films['rating'])\n",
    "plt.show()"
   ]
  },
  {
   "cell_type": "heading",
   "metadata": {},
   "level": 1,
   "source": [
    "Pick the genre for the next movie"
   ]
  },
  {
   "cell_type": "code",
   "execution_count": null,
   "metadata": {},
   "outputs": [],
   "source": [
    "def genre_mean_rating(df_data, genres_list):\n",
    "    \"\"\"\n",
    "    Calculate the mean rating for a all movies from a specific genre\n",
    "    :param df_data: data frame with movies data\n",
    "    :param genres_list: list of all genres in a data frame\n",
    "    :return: a data frame with movie genre and its mean rating\n",
    "    \"\"\"\n",
    "    mean_ratings = pd.DataFrame(columns=['genre', 'mean rating'])\n",
    "    for i in genres_list:\n",
    "        genre_filter = df_data[i] == 1\n",
    "        genre_ratings = df_data.loc[genre_filter, 'rating']\n",
    "        mean_rating = round(np.float(np.mean(genre_ratings)), 1)\n",
    "        mean_ratings.loc[len(mean_ratings)] = [i, mean_rating]\n",
    "    return mean_ratings.sort_values(['mean rating'], ascending=False)\n",
    "\n",
    "ratings = genre_mean_rating(films, genres)"
   ]
  },
  {
   "cell_type": "code",
   "execution_count": null,
   "metadata": {},
   "outputs": [],
   "source": [
    "def genre_popularity(df_data, genres_list):\n",
    "    \"\"\"\n",
    "    Check which genre got the most votes from fans\n",
    "    :param df_data: data frame with movies data\n",
    "    :param genres_list: list of all genres in a data frame\n",
    "    :return: a data frame with movie genre and the sum of the votes\n",
    "    \"\"\"\n",
    "    popularity_vote = pd.DataFrame(columns=['genre', 'number of votes'])\n",
    "    for i in genres_list:\n",
    "        genre_filter = df_data[i] == 1\n",
    "        genre_votes = df_data.loc[genre_filter, 'votes']\n",
    "        votes_sum = np.sum(genre_votes)\n",
    "        popularity_vote.loc[len(popularity_vote)] = [i, votes_sum]\n",
    "    return popularity_vote.sort_values(['number of votes'], ascending=False)\n",
    "\n",
    "popularity = genre_popularity(films, genres)\n",
    "genre_summary = pd.merge(popularity, ratings, on='genre')\n"
   ]
  },
  {
   "cell_type": "code",
   "execution_count": null,
   "metadata": {},
   "outputs": [],
   "source": [
    "def plot_genre_votes_ratings(df_data):\n",
    "    \"\"\"\n",
    "    Creates a plot comparing popularity of the movie with its mean rating\n",
    "    :param df_data: ata frame with movies data\n",
    "    :return: saves a plot\n",
    "    \"\"\"\n",
    "    fig, ax1 = plt.subplots(figsize=(10,8))\n",
    "    x = np.arange(len(df_data['genre']))\n",
    "    plt.xticks(x, df_data['genre'], rotation=45)\n",
    "    ax1.bar(x, df_data['number of votes']/1000000, alpha=0.5, color='green')\n",
    "    ax1.set_ylabel('genre popularity (number of votes in mln)', color='green', fontsize=15)\n",
    "\n",
    "    ax2 = ax1.twinx()\n",
    "    ax2.plot(x, df_data['mean rating'], 'r*', markersize=15)\n",
    "    ax2.set_ylim(0,10)\n",
    "    ax2.set_ylabel('genre mean rating', color='red', fontsize=15)\n",
    "    plt.title('Popularity vs. Rating score among movie genres', fontsize=25)\n",
    "    ax2.title.set_position([0.5, 1.05])\n",
    "\n",
    "    plt.savefig('genre_popularity.png')\n",
    "\n",
    "plot_genre_votes_ratings(genre_summary)"
   ]
  },
  {
   "cell_type": "code",
   "execution_count": null,
   "metadata": {},
   "outputs": [],
   "source": [
    "def genre_budget(df_data, genres_list):\n",
    "    \"\"\"\n",
    "    Calculates sum of dollars spent per movie genre (in mln $)\n",
    "    :param df_data: data frame with movies data\n",
    "    :param genres_list:\n",
    "    :return:\n",
    "    \"\"\"\n",
    "    budgets = pd.DataFrame(columns=['genre', 'total_budget'])\n",
    "    for i in genres_list:\n",
    "        filter = df_data[i] == 1\n",
    "        budget = df_data.loc[filter, 'budget']\n",
    "        budget_sum = np.sum(budget)/1000000\n",
    "        budgets.loc[len(budgets)] = [i, budget_sum]\n",
    "    return budgets.sort_values(['total_budget'], ascending=False)\n",
    "\n",
    "budget = genre_budget(films, genres)\n"
   ]
  },
  {
   "cell_type": "code",
   "execution_count": null,
   "metadata": {},
   "outputs": [],
   "source": [
    "genre_profit = pd.merge(popularity, budget, on='genre')\n",
    "genre_profit['cost per vote'] = genre_profit['total_budget'] / genre_profit['number of votes'] * 1000000\n",
    "genre_profit.sort_values(['cost per vote'], ascending=False)\n"
   ]
  },
  {
   "cell_type": "heading",
   "metadata": {},
   "level": 1,
   "source": [
    "Find something interesting\n",
    "# show those movies where one rating category had distribution above 60 (any of the r1-r10)"
   ]
  },
  {
   "cell_type": "code",
   "execution_count": null,
   "metadata": {},
   "outputs": [],
   "source": [
    "def concentrated_ratings(df_data, labels):\n",
    "    \"\"\"\n",
    "    Check which movies has the rating concentrated within one label\n",
    "    :param df_data: data frame with movies data\n",
    "    :param labels: distribution labels (number of stars)\n",
    "    :return: data frame with new column as a marker for the movies with concentrated rating\n",
    "    \"\"\"\n",
    "    for row in df_data.itertuples():\n",
    "        for i in labels:\n",
    "            if df_data.loc[row.Index, i] > 60:\n",
    "                df_data.loc[row.Index, 'conc_ind'] = 1\n",
    "    return df_data"
   ]
  },
  {
   "cell_type": "code",
   "execution_count": null,
   "metadata": {},
   "outputs": [],
   "source": [
    "films2 = films.copy()\n",
    "distribution_labels = ['r1', 'r2', 'r3', 'r4', 'r5', 'r6', 'r7', 'r8', 'r9', 'r10']\n",
    "concentrated_ratings(films2, distribution_labels)\n",
    "\n",
    "con_filter = films2['conc_ind'] == 1\n",
    "films2 = films2[con_filter]"
   ]
  },
  {
   "cell_type": "code",
   "execution_count": null,
   "metadata": {},
   "outputs": [],
   "source": [
    "# what is the mean number of votes per movie (for the general data and for concentrated group)\n",
    "vote_mean = np.mean(films['votes'])\n",
    "con_vote_mean = np.mean(films2['votes'])"
   ]
  },
  {
   "cell_type": "code",
   "execution_count": null,
   "metadata": {},
   "outputs": [],
   "source": [
    "def mean_group_distribution(df_data_general, df_data_conc, labels):\n",
    "    \"\"\"\n",
    "    Calculate mean rating distribution for each movie category\n",
    "    :param df_data_general: data frame with all movie data\n",
    "    :param df_data_conc: data frame with movie groupes as concentrated rating\n",
    "    :param labels: column labels\n",
    "    :return: a data frame with summary of mean ratings for two groups of movies\n",
    "    \"\"\"\n",
    "    dist_comparison = pd.DataFrame(columns=labels)\n",
    "    for i in distribution_labels:\n",
    "        mean_gen_dist = np.mean(df_data_general.loc[:, i])\n",
    "        mean_conc_dist = np.mean(df_data_conc.loc[:, i])\n",
    "        dist_comparison.loc[len(dist_comparison)] = [mean_gen_dist, mean_conc_dist]\n",
    "    return dist_comparison\n",
    "\n",
    "dist_comp = mean_group_distribution(films, films2, ['general distribution', 'conc distribution'])"
   ]
  },
  {
   "cell_type": "code",
   "execution_count": null,
   "metadata": {},
   "outputs": [],
   "source": [
    ""
   ]
  }
 ],
 "metadata": {
  "kernelspec": {
   "display_name": "Python 2",
   "language": "python",
   "name": "python2"
  },
  "language_info": {
   "codemirror_mode": {
    "name": "ipython",
    "version": 2.0
   },
   "file_extension": ".py",
   "mimetype": "text/x-python",
   "name": "python",
   "nbconvert_exporter": "python",
   "pygments_lexer": "ipython2",
   "version": "2.7.6"
  }
 },
 "nbformat": 4,
 "nbformat_minor": 0
}